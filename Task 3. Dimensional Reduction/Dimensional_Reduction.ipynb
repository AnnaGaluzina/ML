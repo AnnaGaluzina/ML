{
 "cells": [
  {
   "cell_type": "markdown",
   "id": "da5d77c2",
   "metadata": {},
   "source": [
    "# Задание\n",
    "Построить алгоритмы классификации для решения задачи классификации MNIST. \n",
    "1. Обучить модели (SVM, logisitic regression, decision tree, (дополнительные модели по желанию) на исходных данных;\n",
    "2. Использовать алгоритмы PCA и t-SNE для снижения размерности. Какое количество компонент необходимо, чтобы описать 90% дисперсии в PCA?\n",
    "3. Обучить те же модели на сниженном признаковом пространстве, Какой алгоритм снижения дает лучшие метрики точности моделей классификации? Есть ли улучшение относительно работы моделей на исходном признаковом пространстве?\n",
    "4. Оцените, какое количество времени требуется для препроцессинга PCA и t-SNE."
   ]
  },
  {
   "cell_type": "code",
   "execution_count": 1,
   "id": "072206ec",
   "metadata": {},
   "outputs": [],
   "source": [
    "# Испортируем необходимые библиотеки\n",
    "import pandas as pd \n",
    "import time\n",
    "\n",
    "from sklearn.svm import SVC\n",
    "from sklearn.linear_model import LogisticRegression\n",
    "from sklearn.tree import DecisionTreeClassifier\n",
    "\n",
    "from sklearn import datasets \n",
    "from sklearn.model_selection import train_test_split\n",
    "from sklearn.metrics import accuracy_score\n",
    "from sklearn.decomposition import PCA\n",
    "from sklearn.manifold import TSNE "
   ]
  },
  {
   "cell_type": "code",
   "execution_count": 2,
   "id": "bec6cf66",
   "metadata": {},
   "outputs": [],
   "source": [
    "# Загружаем датасет\n",
    "digits = datasets.load_digits()\n",
    "X = digits.data\n",
    "y = digits.target"
   ]
  },
  {
   "cell_type": "code",
   "execution_count": 3,
   "id": "c2ae1478",
   "metadata": {},
   "outputs": [
    {
     "name": "stdout",
     "output_type": "stream",
     "text": [
      "Model Accuracy\n",
      "SVM: 0.9861\n",
      "LogisticRegression: 0.9722\n",
      "DecisionTreeClassifier: 0.8417\n"
     ]
    }
   ],
   "source": [
    "# Обучим моделей SVM, logisitic regression и decision tree на исходных данных (без уменьшения размерности)\n",
    "\n",
    "# Разделим данных на обучающую и тестовую выборки\n",
    "X_train, X_test, y_train, y_test = train_test_split(X, y, test_size=0.2, random_state=42)\n",
    "\n",
    "models = {\n",
    "    \"SVM\": SVC(random_state=42),\n",
    "    \"LogisticRegression\" : LogisticRegression(max_iter=10000, random_state=42),\n",
    "    \"DecisionTreeClassifier\": DecisionTreeClassifier(random_state=42)\n",
    "}\n",
    "\n",
    "# Получим предикты и точность моделей\n",
    "print('Model Accuracy')\n",
    "for model_name, model in models.items():\n",
    "    model.fit(X_train, y_train)\n",
    "    y_pred = model.predict(X_test)\n",
    "    accuracy = accuracy_score(y_test, y_pred)\n",
    "    print(f'{model_name}: {accuracy:.4f}')"
   ]
  },
  {
   "cell_type": "code",
   "execution_count": 4,
   "id": "79c4ba4d",
   "metadata": {},
   "outputs": [],
   "source": [
    "process_time = {}"
   ]
  },
  {
   "cell_type": "code",
   "execution_count": 5,
   "id": "389f3b47",
   "metadata": {},
   "outputs": [
    {
     "name": "stdout",
     "output_type": "stream",
     "text": [
      "Необходимое количество компонент для описания 90% дисперсии : 21\n",
      "\n",
      "Model accuracy with PCA\n",
      "SVM: 0.9861\n",
      "LogisticRegression: 0.9583\n",
      "DecisionTreeClassifier: 0.8667\n"
     ]
    }
   ],
   "source": [
    "# Применим алгоритмы снижения размерности PCA и t-SNE и обучим модели на данных с пониженной размерностью\n",
    "\n",
    "# PCA\n",
    "start_time = time.time()\n",
    "pca = PCA(n_components=0.9)\n",
    "X_train_pca = pca.fit_transform(X_train)\n",
    "X_test_pca = pca.transform(X_test)\n",
    "process_time['PCA'] = time.time() - start_time\n",
    "\n",
    "print(f'Необходимое количество компонент для описания 90% дисперсии : {pca.n_components_}')\n",
    "\n",
    "# Обучение моделей на сниженном признаковом пространстве \n",
    "print(f'\\nModel accuracy with PCA')\n",
    "for model_name, model in models.items():\n",
    "    model.fit(X_train_pca, y_train)\n",
    "    y_pred = model.predict(X_test_pca)\n",
    "    accuracy = accuracy_score(y_test, y_pred)\n",
    "    print(f'{model_name}: {accuracy:.4f}')"
   ]
  },
  {
   "cell_type": "code",
   "execution_count": 6,
   "id": "7aa56a75",
   "metadata": {},
   "outputs": [
    {
     "name": "stdout",
     "output_type": "stream",
     "text": [
      "\n",
      "Model accuracy with t-SNE\n",
      "SVM: 0.9861\n",
      "LogisticRegression: 0.9722\n",
      "DecisionTreeClassifier: 0.8417\n"
     ]
    }
   ],
   "source": [
    "X_train_tsne, X_test_tsne, y_train, y_test = train_test_split(X, y, test_size=0.2, random_state=42)\n",
    "# t-SNE\n",
    "start_time = time.time()\n",
    "tsne = TSNE(n_components=2, random_state=42)\n",
    "X_tsne = tsne.fit_transform(X)\n",
    "process_time['t-SNE'] = time.time() - start_time\n",
    "\n",
    "# Обучение моделей на сниженном признаковом пространстве \n",
    "print(f'\\nModel accuracy with t-SNE')\n",
    "for model_name, model in models.items():\n",
    "    model.fit(X_train_tsne, y_train)\n",
    "    y_pred = model.predict(X_test_tsne)\n",
    "    accuracy = accuracy_score(y_test, y_pred)\n",
    "    print(f\"{model_name}: {accuracy:.4f}\")"
   ]
  },
  {
   "cell_type": "code",
   "execution_count": 7,
   "id": "4f7b38dc",
   "metadata": {},
   "outputs": [
    {
     "name": "stdout",
     "output_type": "stream",
     "text": [
      "Время, затраченнное на препроцессинг:\n",
      "\n",
      "PCA: 0.015 секунд\n",
      "t-SNE: 8.078 секунд\n"
     ]
    }
   ],
   "source": [
    "# Посмотрим какое время требуется для препроцессинга PCA и t-SNE\n",
    "print(f'Время, затраченнное на препроцессинг:\\n')\n",
    "for transformer_name, time in process_time.items():\n",
    "    print(f'{transformer_name}: {time:.3f} секунд')"
   ]
  },
  {
   "cell_type": "markdown",
   "id": "22e1e8d1",
   "metadata": {},
   "source": [
    "## Результаты"
   ]
  },
  {
   "cell_type": "markdown",
   "id": "06ddac05",
   "metadata": {},
   "source": [
    "Для сохранения 90% дисперсии в алгоритме PCA необходима 21 компонента\n",
    "\n",
    "Для модели SVM мы не увидели изменений в точности при снижении размерности\n",
    "\n",
    "Для модели Logistic Regression наблюдается снижение точности при использовании алгоритма PCA, при использовании алгоритма t-SNE значение точности не изменилось\n",
    "\n",
    "Для модели Decision Tree наблюдается прирост точности для алгоритма PCA\n",
    "\n",
    "Время работы препроцессинга для t-SNE алгоритма выше:\n",
    "\n",
    "- PCA : 0.015 секунд\n",
    "- t-SNE : 8.078 секунд"
   ]
  }
 ],
 "metadata": {
  "kernelspec": {
   "display_name": "Python 3 (ipykernel)",
   "language": "python",
   "name": "python3"
  },
  "language_info": {
   "codemirror_mode": {
    "name": "ipython",
    "version": 3
   },
   "file_extension": ".py",
   "mimetype": "text/x-python",
   "name": "python",
   "nbconvert_exporter": "python",
   "pygments_lexer": "ipython3",
   "version": "3.11.5"
  }
 },
 "nbformat": 4,
 "nbformat_minor": 5
}
